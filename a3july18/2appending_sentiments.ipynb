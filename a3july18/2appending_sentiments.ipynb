{
 "cells": [
  {
   "cell_type": "code",
   "execution_count": 80,
   "metadata": {
    "collapsed": true
   },
   "outputs": [],
   "source": [
    "import pandas as pd\n",
    "df= pd.read_csv('/home/manpreet/PycharmProjects/mps/PYTHONML/extradirforfile/twitter/twitteridtweet.csv')   #reading csv\n"
   ]
  },
  {
   "cell_type": "code",
   "execution_count": 81,
   "metadata": {},
   "outputs": [],
   "source": [
    "from textblob import TextBlob\n",
    "def checkreview(tweet):\n",
    "    negative_words = ['bad', 'terrible']\n",
    "    positive_words = ['outstanding', 'good']\n",
    "    # split the tweet into words:\n",
    "    words = tweet.split() \n",
    "\n",
    "    # use list comprehensions to create lists of positive and negative \n",
    "    # words in the current tweet, and use 'len()' to get the counts in \n",
    "    # each list:\n",
    "    count_positive = len([w for w in words if w in positive_words])\n",
    "    count_negative = len([w for w in words if w in negative_words])\n",
    "\n",
    "    # divide the counts by the number of words:\n",
    "    ratio_positive = count_positive / len(words)\n",
    "    ratio_negative = count_negative / len(words)\n",
    "    if ratio_positive<-ratio_negative:\n",
    "        flag=0\n",
    "    else:\n",
    "        flag=1\n",
    "    return flag\n",
    "    \n",
    "    \n"
   ]
  },
  {
   "cell_type": "code",
   "execution_count": 82,
   "metadata": {},
   "outputs": [
    {
     "data": {
      "text/plain": [
       "1"
      ]
     },
     "execution_count": 82,
     "metadata": {},
     "output_type": "execute_result"
    }
   ],
   "source": [
    "#test code\n",
    "checkreview(\"this is very BAD\")"
   ]
  },
  {
   "cell_type": "code",
   "execution_count": 84,
   "metadata": {},
   "outputs": [
    {
     "name": "stdout",
     "output_type": "stream",
     "text": [
      "          id                                              tweet  sentiment\n0      31963   studiolife aislife requires passion dedicatio...          1\n1      31964   user white supremacists want everyone to see ...          1\n2      31965  safe ways to heal your acne altwaystoheal heal...          1\n3      31966  is the hp and the cursed child book up for res...          1\n4      31967   3rd bihday to my amazing hilarious nephew eli...          1\n5      31968                              choose to be momtips           1\n6      31969  something inside me dies ð ð â eyes ness smoke...          1\n7      31970   finished tattoo inked ink loveitâ ï â ï â ï â...          1\n8      31971   user user user i will never understand why my...          1\n9      31972   delicious food lovelife capetown mannaepicure...          1\n10     31973  1000dayswasted narcosis infinite ep make me aw...          1\n11     31974  one of the world s greatest spoing events lema...          1\n12     31975  half way through the website now and allgoingw...          1\n13     31976  good food good life enjoy and ð ð ð ð ð ð this...          1\n14     31977  i ll stand behind this guncontrolplease sensel...          1\n15     31978  i ate i ate and i ate ð ð jamaisasthi fish cur...          1\n16     31979   user got my user limited edition rain or shin...          1\n17     31980                                                amp          1\n18     31981        ð ð ð girls sun fave london united kingdom           1\n19     31982  thought factory bbc neutrality on right wing f...          1\n20     31983  hey guys tommorow is the last day of my exams ...          1\n21     31984   user user user levyrroni recuerdos memoriesð ...          1\n22     31985  my mind is like ð ð ð ½ð but my body like ð ð ...          1\n23     31986  never been this down on myself in my entire life           1\n24     31987  check twitterww trends trending worldwide 11 1...          1\n25     31988  i thought i saw a mermaid ceegee smcr inshot g...          1\n26     31989              chick gets fucked hottest naked lady           1\n27     31990  happy bday lucyâ â ð xoxo love beautiful pizza...          1\n28     31991   haroldfriday have a weekend filled with sunbe...          1\n29     31992   user user tried that but nothing will try aga...          1\n...      ...                                                ...        ...\n17167  49130  people do anything for fucking attention nowad...          1\n17168  49131  creative bubble got burst ð looking forward to...          1\n17169  49132  tomorrow is gonna be a big day we are going to...          1\n17170  49133  i am thankful for baby giggles thankful positive           1\n17171  49134   model i love u take with u all the time in ur...          1\n17172  49135  in life u will grow to learn some pple will wo...          1\n17173  49136  ð i was the storm you were the rain together w...          1\n17174  49137  lovelgq broken ep via rnb love heabroken hea d...          1\n17175  49138  spread love not hateâ ï ð ð ð ð prayingfororla...          1\n17176  49139            user user are the most racist pay ever           1\n17177  49140      i am thankful for children thankful positive           1\n17178  49141  liverpool â ï ð ð walk liverpool starbucks avi...          1\n17179  49142   bakersfield rooster simulation i want to clim...          1\n17180  49143  por do sol ó¾ â ï instagood beautiful instadai...          1\n17181  49144   user hell yeah what a great surprise for your...          1\n17182  49145  when ur the joke ur defensive towards everythi...          1\n17183  49146   enjoying the evening sun in my bedroom â cozy...          1\n17184  49147  tonight on user from 9pm gmt you can here a sp...          1\n17185  49148  today is a good day for excercise imready sofu...          1\n17186  49149  good night with a tea and music â ï ð ð ð bill...          1\n17187  49150  loving lifeð ºð â ï ð createyourfuture lifesty...          1\n17188  49151  black professor demonizes proposes nazi style ...          1\n17189  49152  learn how to think positive positive instagram...          1\n17190  49153  we love the pretty happy and fresh you teenili...          1\n17191  49154  2_damn_tuff ruff_muff__techno_city ng005 web 1...          1\n17192  49155  thought factory left right polarisation trump ...          1\n17193  49156  feeling like a mermaid ð hairflip neverready f...          1\n17194  49157   hillary campaigned today in ohio omg amp used...          1\n17195  49158  happy at work conference right mindset leads t...          1\n17196  49159  my song so glad free download shoegaze newmusi...          1\n\n[17197 rows x 3 columns]\n"
     ]
    }
   ],
   "source": [
    "df['sentiment']=df['tweet'].apply(checkreview)\n",
    "print(df)\n",
    "\n",
    "df.to_csv('/home/manpreet/PycharmProjects/mps/PYTHONML/extradirforfile/twitter/twitteridtweetsenti.csv',\n",
    "              index=False)"
   ]
  },
  {
   "cell_type": "code",
   "execution_count": null,
   "metadata": {},
   "outputs": [],
   "source": []
  }
 ],
 "metadata": {
  "kernelspec": {
   "display_name": "Python 2",
   "language": "python",
   "name": "python2"
  },
  "language_info": {
   "codemirror_mode": {
    "name": "ipython",
    "version": 2
   },
   "file_extension": ".py",
   "mimetype": "text/x-python",
   "name": "python",
   "nbconvert_exporter": "python",
   "pygments_lexer": "ipython2",
   "version": "2.7.6"
  }
 },
 "nbformat": 4,
 "nbformat_minor": 0
}
