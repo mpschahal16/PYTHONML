{
 "cells": [
  {
   "cell_type": "code",
   "execution_count": 1,
   "metadata": {
    "collapsed": true
   },
   "outputs": [],
   "source": [
    "import pandas as pd\n",
    "df= pd.read_csv('/home/manpreet/PycharmProjects/mps/PYTHONML/extradirforfile/twitter/twitteridtweet.csv')   #reading csv\n"
   ]
  },
  {
   "cell_type": "code",
   "execution_count": 2,
   "metadata": {},
   "outputs": [],
   "source": [
    "def checkreview(tweet):\n",
    "    negative_words=[line.strip() for line in open('/home/manpreet/PycharmProjects/mps/PYTHONML/extradirforfile'\n",
    "                                       '/twitter/negative-words.txt')]\n",
    "    positive_words=[line.strip() for line in open('/home/manpreet/PycharmProjects/mps/PYTHONML/extradirforfile'\n",
    "                                       '/twitter/positive-words.txt')]\n",
    "    # split the tweet into words:\n",
    "    words = tweet.split() \n",
    "\n",
    "    # use list comprehensions to create lists of positive and negative \n",
    "    # words in the current tweet, and use 'len()' to get the counts in \n",
    "    # each list:\n",
    "    count_positive = len([w for w in words if w in positive_words])\n",
    "    count_negative = len([w for w in words if w in negative_words])\n",
    "\n",
    "    # divide the counts by the number of words:\n",
    "    ratio_positive = count_positive / len(words)\n",
    "    ratio_negative = count_negative / len(words)\n",
    "    if ratio_positive<ratio_negative:\n",
    "        flag=0\n",
    "    else:\n",
    "        flag=1\n",
    "    return flag\n",
    "    \n",
    "    \n"
   ]
  },
  {
   "cell_type": "code",
   "execution_count": 3,
   "metadata": {},
   "outputs": [
    {
     "data": {
      "text/plain": [
       "1"
      ]
     },
     "execution_count": 3,
     "metadata": {},
     "output_type": "execute_result"
    }
   ],
   "source": [
    "#test code\n",
    "checkreview(\"this is very BAD\")"
   ]
  },
  {
   "cell_type": "code",
   "execution_count": 4,
   "metadata": {},
   "outputs": [],
   "source": [
    "df['sentiment']=df['tweet'].apply(checkreview)\n",
    "df.to_csv('/home/manpreet/PycharmProjects/mps/PYTHONML/extradirforfile/twitter/twitteridtweetsenti.csv',\n",
    "              index=False)"
   ]
  },
  {
   "cell_type": "code",
   "execution_count": 18,
   "metadata": {},
   "outputs": [
    {
     "name": "stdout",
     "output_type": "stream",
     "text": [
      "Total no. of positive tweet: 14178\nTotal no. of negative tweet: 3018\n"
     ]
    }
   ],
   "source": [
    "poscont,negcount=0,0\n",
    "len=df.__len__()\n",
    "for i in range(0,len-1):\n",
    "    temp=df['sentiment'][i]\n",
    "    if(temp==1):\n",
    "        poscont=poscont+1\n",
    "    else:\n",
    "        negcount=negcount+1\n",
    "        \n",
    "        \n",
    "print('Total no. of positive tweet:',poscont)\n",
    "print('Total no. of negative tweet:',negcount)\n",
    "    "
   ]
  },
  {
   "cell_type": "code",
   "execution_count": null,
   "metadata": {},
   "outputs": [],
   "source": []
  }
 ],
 "metadata": {
  "kernelspec": {
   "display_name": "Python 2",
   "language": "python",
   "name": "python2"
  },
  "language_info": {
   "codemirror_mode": {
    "name": "ipython",
    "version": 2
   },
   "file_extension": ".py",
   "mimetype": "text/x-python",
   "name": "python",
   "nbconvert_exporter": "python",
   "pygments_lexer": "ipython2",
   "version": "2.7.6"
  }
 },
 "nbformat": 4,
 "nbformat_minor": 0
}
