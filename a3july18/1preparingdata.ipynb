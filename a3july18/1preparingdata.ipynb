{
 "cells": [
  {
   "cell_type": "code",
   "execution_count": 4,
   "metadata": {
    "collapsed": true
   },
   "outputs": [
    {
     "name": "stderr",
     "output_type": "stream",
     "text": [
      "/home/manpreet/PycharmProjects/manpreet/venv/lib/python3.6/site-packages/ipykernel_launcher.py:13: SettingWithCopyWarning: \nA value is trying to be set on a copy of a slice from a DataFrame.\nTry using .loc[row_indexer,col_indexer] = value instead\n\nSee the caveats in the documentation: http://pandas.pydata.org/pandas-docs/stable/indexing.html#indexing-view-versus-copy\n  del sys.path[0]\n"
     ]
    }
   ],
   "source": [
    "import pandas as pd  #importing pandas\n",
    "df= pd.read_csv('/home/manpreet/PycharmProjects/mps/PYTHONML/extradirforfile/twitter/twitter.csv')   #reading csv\n",
    "df_new=df[['id','tweet']]\n",
    "import re    ##importing regular expression\n",
    "def preprocessor(text):   #function to remove extra thing from the string for ex emoticons\n",
    "    \n",
    "    #we are using regular expression to determine emoticons and other extra things\n",
    "   text = re.sub('<[^>]*>','',text)     \n",
    "   emoticons = re.findall('[:;=](?:-)', text)\n",
    "   text = (re.sub('[\\W]+',' ',text.lower())+ ' '.join(emoticons).replace('-',''))\n",
    "   \n",
    "   return text\n",
    "df_new['tweet'] = df_new['tweet'].apply(preprocessor)   #applying above defined function to all the reviews and\n",
    "\n",
    "df_new.to_csv('/home/manpreet/PycharmProjects/mps/PYTHONML/extradirforfile/twitter/twitteridtweet.csv',\n",
    "              index=False)"
   ]
  },
  {
   "cell_type": "code",
   "execution_count": null,
   "metadata": {},
   "outputs": [],
   "source": []
  }
 ],
 "metadata": {
  "kernelspec": {
   "display_name": "Python 2",
   "language": "python",
   "name": "python2"
  },
  "language_info": {
   "codemirror_mode": {
    "name": "ipython",
    "version": 2
   },
   "file_extension": ".py",
   "mimetype": "text/x-python",
   "name": "python",
   "nbconvert_exporter": "python",
   "pygments_lexer": "ipython2",
   "version": "2.7.6"
  }
 },
 "nbformat": 4,
 "nbformat_minor": 0
}
