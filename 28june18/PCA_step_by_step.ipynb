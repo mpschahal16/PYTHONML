{
 "cells": [
  {
   "cell_type": "markdown",
   "metadata": {},
   "source": [
    "Finding the directions of maximum variance in high-dimensional data and project it onto a smaller dimensional subspace while retaining most of the information."
   ]
  },
  {
   "cell_type": "markdown",
   "metadata": {},
   "source": [
    "### A Summary of the PCA Approach\n",
    "\n",
    " - Standardize the data.\n",
    " \n",
    " - Obtain the Eigenvectors and Eigenvalues from the covariance matrix or correlation matrix, or    perform Singular Vector Decomposition.\n",
    " \n",
    " - Sort eigenvalues in descending order and choose the k eigenvectors that correspond to the k         largest eigenvalues where k is the number of dimensions of the new feature  subspace (k≤d).\n",
    " \n",
    " - Construct the projection matrix W from the selected k eigenvectors.\n",
    " \n",
    " - Transform the original dataset X via W to obtain a k-dimensional feature subspace Y\n",
    "\n",
    "    .\n",
    "\n",
    "\n"
   ]
  },
  {
   "cell_type": "code",
   "execution_count": 1,
   "metadata": {},
   "outputs": [],
   "source": [
    "from sklearn.datasets import load_iris\n",
    "from sklearn.model_selection import train_test_split\n",
    "from sklearn.decomposition import PCA\n",
    "from sklearn.preprocessing import StandardScaler\n",
    "\n"
   ]
  },
  {
   "cell_type": "code",
   "execution_count": 21,
   "metadata": {},
   "outputs": [
    {
     "name": "stdout",
     "output_type": "stream",
     "text": [
      "[[5.1 3.5 1.4 0.2]\n [4.9 3.  1.4 0.2]\n [4.7 3.2 1.3 0.2]\n [4.6 3.1 1.5 0.2]\n [5.  3.6 1.4 0.2]\n [5.4 3.9 1.7 0.4]\n [4.6 3.4 1.4 0.3]\n [5.  3.4 1.5 0.2]\n [4.4 2.9 1.4 0.2]\n [4.9 3.1 1.5 0.1]\n [5.4 3.7 1.5 0.2]\n [4.8 3.4 1.6 0.2]\n [4.8 3.  1.4 0.1]\n [4.3 3.  1.1 0.1]\n [5.8 4.  1.2 0.2]\n [5.7 4.4 1.5 0.4]\n [5.4 3.9 1.3 0.4]\n [5.1 3.5 1.4 0.3]\n [5.7 3.8 1.7 0.3]\n [5.1 3.8 1.5 0.3]\n [5.4 3.4 1.7 0.2]\n [5.1 3.7 1.5 0.4]\n [4.6 3.6 1.  0.2]\n [5.1 3.3 1.7 0.5]\n [4.8 3.4 1.9 0.2]\n [5.  3.  1.6 0.2]\n [5.  3.4 1.6 0.4]\n [5.2 3.5 1.5 0.2]\n [5.2 3.4 1.4 0.2]\n [4.7 3.2 1.6 0.2]\n [4.8 3.1 1.6 0.2]\n [5.4 3.4 1.5 0.4]\n [5.2 4.1 1.5 0.1]\n [5.5 4.2 1.4 0.2]\n [4.9 3.1 1.5 0.1]\n [5.  3.2 1.2 0.2]\n [5.5 3.5 1.3 0.2]\n [4.9 3.1 1.5 0.1]\n [4.4 3.  1.3 0.2]\n [5.1 3.4 1.5 0.2]\n [5.  3.5 1.3 0.3]\n [4.5 2.3 1.3 0.3]\n [4.4 3.2 1.3 0.2]\n [5.  3.5 1.6 0.6]\n [5.1 3.8 1.9 0.4]\n [4.8 3.  1.4 0.3]\n [5.1 3.8 1.6 0.2]\n [4.6 3.2 1.4 0.2]\n [5.3 3.7 1.5 0.2]\n [5.  3.3 1.4 0.2]\n [7.  3.2 4.7 1.4]\n [6.4 3.2 4.5 1.5]\n [6.9 3.1 4.9 1.5]\n [5.5 2.3 4.  1.3]\n [6.5 2.8 4.6 1.5]\n [5.7 2.8 4.5 1.3]\n [6.3 3.3 4.7 1.6]\n [4.9 2.4 3.3 1. ]\n [6.6 2.9 4.6 1.3]\n [5.2 2.7 3.9 1.4]\n [5.  2.  3.5 1. ]\n [5.9 3.  4.2 1.5]\n [6.  2.2 4.  1. ]\n [6.1 2.9 4.7 1.4]\n [5.6 2.9 3.6 1.3]\n [6.7 3.1 4.4 1.4]\n [5.6 3.  4.5 1.5]\n [5.8 2.7 4.1 1. ]\n [6.2 2.2 4.5 1.5]\n [5.6 2.5 3.9 1.1]\n [5.9 3.2 4.8 1.8]\n [6.1 2.8 4.  1.3]\n [6.3 2.5 4.9 1.5]\n [6.1 2.8 4.7 1.2]\n [6.4 2.9 4.3 1.3]\n [6.6 3.  4.4 1.4]\n [6.8 2.8 4.8 1.4]\n [6.7 3.  5.  1.7]\n [6.  2.9 4.5 1.5]\n [5.7 2.6 3.5 1. ]\n [5.5 2.4 3.8 1.1]\n [5.5 2.4 3.7 1. ]\n [5.8 2.7 3.9 1.2]\n [6.  2.7 5.1 1.6]\n [5.4 3.  4.5 1.5]\n [6.  3.4 4.5 1.6]\n [6.7 3.1 4.7 1.5]\n [6.3 2.3 4.4 1.3]\n [5.6 3.  4.1 1.3]\n [5.5 2.5 4.  1.3]\n [5.5 2.6 4.4 1.2]\n [6.1 3.  4.6 1.4]\n [5.8 2.6 4.  1.2]\n [5.  2.3 3.3 1. ]\n [5.6 2.7 4.2 1.3]\n [5.7 3.  4.2 1.2]\n [5.7 2.9 4.2 1.3]\n [6.2 2.9 4.3 1.3]\n [5.1 2.5 3.  1.1]\n [5.7 2.8 4.1 1.3]\n [6.3 3.3 6.  2.5]\n [5.8 2.7 5.1 1.9]\n [7.1 3.  5.9 2.1]\n [6.3 2.9 5.6 1.8]\n [6.5 3.  5.8 2.2]\n [7.6 3.  6.6 2.1]\n [4.9 2.5 4.5 1.7]\n [7.3 2.9 6.3 1.8]\n [6.7 2.5 5.8 1.8]\n [7.2 3.6 6.1 2.5]\n [6.5 3.2 5.1 2. ]\n [6.4 2.7 5.3 1.9]\n [6.8 3.  5.5 2.1]\n [5.7 2.5 5.  2. ]\n [5.8 2.8 5.1 2.4]\n [6.4 3.2 5.3 2.3]\n [6.5 3.  5.5 1.8]\n [7.7 3.8 6.7 2.2]\n [7.7 2.6 6.9 2.3]\n [6.  2.2 5.  1.5]\n [6.9 3.2 5.7 2.3]\n [5.6 2.8 4.9 2. ]\n [7.7 2.8 6.7 2. ]\n [6.3 2.7 4.9 1.8]\n [6.7 3.3 5.7 2.1]\n [7.2 3.2 6.  1.8]\n [6.2 2.8 4.8 1.8]\n [6.1 3.  4.9 1.8]\n [6.4 2.8 5.6 2.1]\n [7.2 3.  5.8 1.6]\n [7.4 2.8 6.1 1.9]\n [7.9 3.8 6.4 2. ]\n [6.4 2.8 5.6 2.2]\n [6.3 2.8 5.1 1.5]\n [6.1 2.6 5.6 1.4]\n [7.7 3.  6.1 2.3]\n [6.3 3.4 5.6 2.4]\n [6.4 3.1 5.5 1.8]\n [6.  3.  4.8 1.8]\n [6.9 3.1 5.4 2.1]\n [6.7 3.1 5.6 2.4]\n [6.9 3.1 5.1 2.3]\n [5.8 2.7 5.1 1.9]\n [6.8 3.2 5.9 2.3]\n [6.7 3.3 5.7 2.5]\n [6.7 3.  5.2 2.3]\n [6.3 2.5 5.  1.9]\n [6.5 3.  5.2 2. ]\n [6.2 3.4 5.4 2.3]\n [5.9 3.  5.1 1.8]]\n[0 0 0 0 0 0 0 0 0 0 0 0 0 0 0 0 0 0 0 0 0 0 0 0 0 0 0 0 0 0 0 0 0 0 0 0 0\n 0 0 0 0 0 0 0 0 0 0 0 0 0 1 1 1 1 1 1 1 1 1 1 1 1 1 1 1 1 1 1 1 1 1 1 1 1\n 1 1 1 1 1 1 1 1 1 1 1 1 1 1 1 1 1 1 1 1 1 1 1 1 1 1 2 2 2 2 2 2 2 2 2 2 2\n 2 2 2 2 2 2 2 2 2 2 2 2 2 2 2 2 2 2 2 2 2 2 2 2 2 2 2 2 2 2 2 2 2 2 2 2 2\n 2 2]\n"
     ]
    }
   ],
   "source": [
    "iris = load_iris()\n",
    "\n",
    "X = iris.data\n",
    "y = iris.target\n",
    "\n",
    "print(X)\n",
    "print(y)"
   ]
  },
  {
   "cell_type": "code",
   "execution_count": 22,
   "metadata": {},
   "outputs": [
    {
     "name": "stdout",
     "output_type": "stream",
     "text": [
      "[[-9.00681170e-01  1.03205722e+00 -1.34127240e+00 -1.31297673e+00]\n [-1.14301691e+00 -1.24957601e-01 -1.34127240e+00 -1.31297673e+00]\n [-1.38535265e+00  3.37848329e-01 -1.39813811e+00 -1.31297673e+00]\n [-1.50652052e+00  1.06445364e-01 -1.28440670e+00 -1.31297673e+00]\n [-1.02184904e+00  1.26346019e+00 -1.34127240e+00 -1.31297673e+00]\n [-5.37177559e-01  1.95766909e+00 -1.17067529e+00 -1.05003079e+00]\n [-1.50652052e+00  8.00654259e-01 -1.34127240e+00 -1.18150376e+00]\n [-1.02184904e+00  8.00654259e-01 -1.28440670e+00 -1.31297673e+00]\n [-1.74885626e+00 -3.56360566e-01 -1.34127240e+00 -1.31297673e+00]\n [-1.14301691e+00  1.06445364e-01 -1.28440670e+00 -1.44444970e+00]\n [-5.37177559e-01  1.49486315e+00 -1.28440670e+00 -1.31297673e+00]\n [-1.26418478e+00  8.00654259e-01 -1.22754100e+00 -1.31297673e+00]\n [-1.26418478e+00 -1.24957601e-01 -1.34127240e+00 -1.44444970e+00]\n [-1.87002413e+00 -1.24957601e-01 -1.51186952e+00 -1.44444970e+00]\n [-5.25060772e-02  2.18907205e+00 -1.45500381e+00 -1.31297673e+00]\n [-1.73673948e-01  3.11468391e+00 -1.28440670e+00 -1.05003079e+00]\n [-5.37177559e-01  1.95766909e+00 -1.39813811e+00 -1.05003079e+00]\n [-9.00681170e-01  1.03205722e+00 -1.34127240e+00 -1.18150376e+00]\n [-1.73673948e-01  1.72626612e+00 -1.17067529e+00 -1.18150376e+00]\n [-9.00681170e-01  1.72626612e+00 -1.28440670e+00 -1.18150376e+00]\n [-5.37177559e-01  8.00654259e-01 -1.17067529e+00 -1.31297673e+00]\n [-9.00681170e-01  1.49486315e+00 -1.28440670e+00 -1.05003079e+00]\n [-1.50652052e+00  1.26346019e+00 -1.56873522e+00 -1.31297673e+00]\n [-9.00681170e-01  5.69251294e-01 -1.17067529e+00 -9.18557817e-01]\n [-1.26418478e+00  8.00654259e-01 -1.05694388e+00 -1.31297673e+00]\n [-1.02184904e+00 -1.24957601e-01 -1.22754100e+00 -1.31297673e+00]\n [-1.02184904e+00  8.00654259e-01 -1.22754100e+00 -1.05003079e+00]\n [-7.79513300e-01  1.03205722e+00 -1.28440670e+00 -1.31297673e+00]\n [-7.79513300e-01  8.00654259e-01 -1.34127240e+00 -1.31297673e+00]\n [-1.38535265e+00  3.37848329e-01 -1.22754100e+00 -1.31297673e+00]\n [-1.26418478e+00  1.06445364e-01 -1.22754100e+00 -1.31297673e+00]\n [-5.37177559e-01  8.00654259e-01 -1.28440670e+00 -1.05003079e+00]\n [-7.79513300e-01  2.42047502e+00 -1.28440670e+00 -1.44444970e+00]\n [-4.16009689e-01  2.65187798e+00 -1.34127240e+00 -1.31297673e+00]\n [-1.14301691e+00  1.06445364e-01 -1.28440670e+00 -1.44444970e+00]\n [-1.02184904e+00  3.37848329e-01 -1.45500381e+00 -1.31297673e+00]\n [-4.16009689e-01  1.03205722e+00 -1.39813811e+00 -1.31297673e+00]\n [-1.14301691e+00  1.06445364e-01 -1.28440670e+00 -1.44444970e+00]\n [-1.74885626e+00 -1.24957601e-01 -1.39813811e+00 -1.31297673e+00]\n [-9.00681170e-01  8.00654259e-01 -1.28440670e+00 -1.31297673e+00]\n [-1.02184904e+00  1.03205722e+00 -1.39813811e+00 -1.18150376e+00]\n [-1.62768839e+00 -1.74477836e+00 -1.39813811e+00 -1.18150376e+00]\n [-1.74885626e+00  3.37848329e-01 -1.39813811e+00 -1.31297673e+00]\n [-1.02184904e+00  1.03205722e+00 -1.22754100e+00 -7.87084847e-01]\n [-9.00681170e-01  1.72626612e+00 -1.05694388e+00 -1.05003079e+00]\n [-1.26418478e+00 -1.24957601e-01 -1.34127240e+00 -1.18150376e+00]\n [-9.00681170e-01  1.72626612e+00 -1.22754100e+00 -1.31297673e+00]\n [-1.50652052e+00  3.37848329e-01 -1.34127240e+00 -1.31297673e+00]\n [-6.58345429e-01  1.49486315e+00 -1.28440670e+00 -1.31297673e+00]\n [-1.02184904e+00  5.69251294e-01 -1.34127240e+00 -1.31297673e+00]\n [ 1.40150837e+00  3.37848329e-01  5.35295827e-01  2.64698913e-01]\n [ 6.74501145e-01  3.37848329e-01  4.21564419e-01  3.96171883e-01]\n [ 1.28034050e+00  1.06445364e-01  6.49027235e-01  3.96171883e-01]\n [-4.16009689e-01 -1.74477836e+00  1.37235899e-01  1.33225943e-01]\n [ 7.95669016e-01 -5.87763531e-01  4.78430123e-01  3.96171883e-01]\n [-1.73673948e-01 -5.87763531e-01  4.21564419e-01  1.33225943e-01]\n [ 5.53333275e-01  5.69251294e-01  5.35295827e-01  5.27644853e-01]\n [-1.14301691e+00 -1.51337539e+00 -2.60824029e-01 -2.61192967e-01]\n [ 9.16836886e-01 -3.56360566e-01  4.78430123e-01  1.33225943e-01]\n [-7.79513300e-01 -8.19166497e-01  8.03701950e-02  2.64698913e-01]\n [-1.02184904e+00 -2.43898725e+00 -1.47092621e-01 -2.61192967e-01]\n [ 6.86617933e-02 -1.24957601e-01  2.50967307e-01  3.96171883e-01]\n [ 1.89829664e-01 -1.97618132e+00  1.37235899e-01 -2.61192967e-01]\n [ 3.10997534e-01 -3.56360566e-01  5.35295827e-01  2.64698913e-01]\n [-2.94841818e-01 -3.56360566e-01 -9.02269170e-02  1.33225943e-01]\n [ 1.03800476e+00  1.06445364e-01  3.64698715e-01  2.64698913e-01]\n [-2.94841818e-01 -1.24957601e-01  4.21564419e-01  3.96171883e-01]\n [-5.25060772e-02 -8.19166497e-01  1.94101603e-01 -2.61192967e-01]\n [ 4.32165405e-01 -1.97618132e+00  4.21564419e-01  3.96171883e-01]\n [-2.94841818e-01 -1.28197243e+00  8.03701950e-02 -1.29719997e-01]\n [ 6.86617933e-02  3.37848329e-01  5.92161531e-01  7.90590793e-01]\n [ 3.10997534e-01 -5.87763531e-01  1.37235899e-01  1.33225943e-01]\n [ 5.53333275e-01 -1.28197243e+00  6.49027235e-01  3.96171883e-01]\n [ 3.10997534e-01 -5.87763531e-01  5.35295827e-01  1.75297293e-03]\n [ 6.74501145e-01 -3.56360566e-01  3.07833011e-01  1.33225943e-01]\n [ 9.16836886e-01 -1.24957601e-01  3.64698715e-01  2.64698913e-01]\n [ 1.15917263e+00 -5.87763531e-01  5.92161531e-01  2.64698913e-01]\n [ 1.03800476e+00 -1.24957601e-01  7.05892939e-01  6.59117823e-01]\n [ 1.89829664e-01 -3.56360566e-01  4.21564419e-01  3.96171883e-01]\n [-1.73673948e-01 -1.05056946e+00 -1.47092621e-01 -2.61192967e-01]\n [-4.16009689e-01 -1.51337539e+00  2.35044910e-02 -1.29719997e-01]\n [-4.16009689e-01 -1.51337539e+00 -3.33612130e-02 -2.61192967e-01]\n [-5.25060772e-02 -8.19166497e-01  8.03701950e-02  1.75297293e-03]\n [ 1.89829664e-01 -8.19166497e-01  7.62758643e-01  5.27644853e-01]\n [-5.37177559e-01 -1.24957601e-01  4.21564419e-01  3.96171883e-01]\n [ 1.89829664e-01  8.00654259e-01  4.21564419e-01  5.27644853e-01]\n [ 1.03800476e+00  1.06445364e-01  5.35295827e-01  3.96171883e-01]\n [ 5.53333275e-01 -1.74477836e+00  3.64698715e-01  1.33225943e-01]\n [-2.94841818e-01 -1.24957601e-01  1.94101603e-01  1.33225943e-01]\n [-4.16009689e-01 -1.28197243e+00  1.37235899e-01  1.33225943e-01]\n [-4.16009689e-01 -1.05056946e+00  3.64698715e-01  1.75297293e-03]\n [ 3.10997534e-01 -1.24957601e-01  4.78430123e-01  2.64698913e-01]\n [-5.25060772e-02 -1.05056946e+00  1.37235899e-01  1.75297293e-03]\n [-1.02184904e+00 -1.74477836e+00 -2.60824029e-01 -2.61192967e-01]\n [-2.94841818e-01 -8.19166497e-01  2.50967307e-01  1.33225943e-01]\n [-1.73673948e-01 -1.24957601e-01  2.50967307e-01  1.75297293e-03]\n [-1.73673948e-01 -3.56360566e-01  2.50967307e-01  1.33225943e-01]\n [ 4.32165405e-01 -3.56360566e-01  3.07833011e-01  1.33225943e-01]\n [-9.00681170e-01 -1.28197243e+00 -4.31421141e-01 -1.29719997e-01]\n [-1.73673948e-01 -5.87763531e-01  1.94101603e-01  1.33225943e-01]\n [ 5.53333275e-01  5.69251294e-01  1.27454998e+00  1.71090158e+00]\n [-5.25060772e-02 -8.19166497e-01  7.62758643e-01  9.22063763e-01]\n [ 1.52267624e+00 -1.24957601e-01  1.21768427e+00  1.18500970e+00]\n [ 5.53333275e-01 -3.56360566e-01  1.04708716e+00  7.90590793e-01]\n [ 7.95669016e-01 -1.24957601e-01  1.16081857e+00  1.31648267e+00]\n [ 2.12851559e+00 -1.24957601e-01  1.61574420e+00  1.18500970e+00]\n [-1.14301691e+00 -1.28197243e+00  4.21564419e-01  6.59117823e-01]\n [ 1.76501198e+00 -3.56360566e-01  1.44514709e+00  7.90590793e-01]\n [ 1.03800476e+00 -1.28197243e+00  1.16081857e+00  7.90590793e-01]\n [ 1.64384411e+00  1.26346019e+00  1.33141568e+00  1.71090158e+00]\n [ 7.95669016e-01  3.37848329e-01  7.62758643e-01  1.05353673e+00]\n [ 6.74501145e-01 -8.19166497e-01  8.76490051e-01  9.22063763e-01]\n [ 1.15917263e+00 -1.24957601e-01  9.90221459e-01  1.18500970e+00]\n [-1.73673948e-01 -1.28197243e+00  7.05892939e-01  1.05353673e+00]\n [-5.25060772e-02 -5.87763531e-01  7.62758643e-01  1.57942861e+00]\n [ 6.74501145e-01  3.37848329e-01  8.76490051e-01  1.44795564e+00]\n [ 7.95669016e-01 -1.24957601e-01  9.90221459e-01  7.90590793e-01]\n [ 2.24968346e+00  1.72626612e+00  1.67260991e+00  1.31648267e+00]\n [ 2.24968346e+00 -1.05056946e+00  1.78634131e+00  1.44795564e+00]\n [ 1.89829664e-01 -1.97618132e+00  7.05892939e-01  3.96171883e-01]\n [ 1.28034050e+00  3.37848329e-01  1.10395287e+00  1.44795564e+00]\n [-2.94841818e-01 -5.87763531e-01  6.49027235e-01  1.05353673e+00]\n [ 2.24968346e+00 -5.87763531e-01  1.67260991e+00  1.05353673e+00]\n [ 5.53333275e-01 -8.19166497e-01  6.49027235e-01  7.90590793e-01]\n [ 1.03800476e+00  5.69251294e-01  1.10395287e+00  1.18500970e+00]\n [ 1.64384411e+00  3.37848329e-01  1.27454998e+00  7.90590793e-01]\n [ 4.32165405e-01 -5.87763531e-01  5.92161531e-01  7.90590793e-01]\n [ 3.10997534e-01 -1.24957601e-01  6.49027235e-01  7.90590793e-01]\n [ 6.74501145e-01 -5.87763531e-01  1.04708716e+00  1.18500970e+00]\n [ 1.64384411e+00 -1.24957601e-01  1.16081857e+00  5.27644853e-01]\n [ 1.88617985e+00 -5.87763531e-01  1.33141568e+00  9.22063763e-01]\n [ 2.49201920e+00  1.72626612e+00  1.50201279e+00  1.05353673e+00]\n [ 6.74501145e-01 -5.87763531e-01  1.04708716e+00  1.31648267e+00]\n [ 5.53333275e-01 -5.87763531e-01  7.62758643e-01  3.96171883e-01]\n [ 3.10997534e-01 -1.05056946e+00  1.04708716e+00  2.64698913e-01]\n [ 2.24968346e+00 -1.24957601e-01  1.33141568e+00  1.44795564e+00]\n [ 5.53333275e-01  8.00654259e-01  1.04708716e+00  1.57942861e+00]\n [ 6.74501145e-01  1.06445364e-01  9.90221459e-01  7.90590793e-01]\n [ 1.89829664e-01 -1.24957601e-01  5.92161531e-01  7.90590793e-01]\n [ 1.28034050e+00  1.06445364e-01  9.33355755e-01  1.18500970e+00]\n [ 1.03800476e+00  1.06445364e-01  1.04708716e+00  1.57942861e+00]\n [ 1.28034050e+00  1.06445364e-01  7.62758643e-01  1.44795564e+00]\n [-5.25060772e-02 -8.19166497e-01  7.62758643e-01  9.22063763e-01]\n [ 1.15917263e+00  3.37848329e-01  1.21768427e+00  1.44795564e+00]\n [ 1.03800476e+00  5.69251294e-01  1.10395287e+00  1.71090158e+00]\n [ 1.03800476e+00 -1.24957601e-01  8.19624347e-01  1.44795564e+00]\n [ 5.53333275e-01 -1.28197243e+00  7.05892939e-01  9.22063763e-01]\n [ 7.95669016e-01 -1.24957601e-01  8.19624347e-01  1.05353673e+00]\n [ 4.32165405e-01  8.00654259e-01  9.33355755e-01  1.44795564e+00]\n [ 6.86617933e-02 -1.24957601e-01  7.62758643e-01  7.90590793e-01]]\n"
     ]
    }
   ],
   "source": [
    "X_std = StandardScaler().fit_transform(X)\n",
    "\n",
    "print(X_std)"
   ]
  },
  {
   "cell_type": "markdown",
   "metadata": {},
   "source": [
    "### 1 - Eigendecomposition - Computing Eigenvectors and Eigenvalues"
   ]
  },
  {
   "cell_type": "markdown",
   "metadata": {},
   "source": [
    "The eigenvectors (principal components) determine the directions of the new feature space, and the eigenvalues determine their magnitude. \n",
    "\n",
    "In other words, the eigenvalues explain the variance of the data along the new feature axes."
   ]
  },
  {
   "cell_type": "code",
   "execution_count": null,
   "metadata": {
    "collapsed": true
   },
   "outputs": [],
   "source": [
    "#Covariance Matrix"
   ]
  },
  {
   "cell_type": "markdown",
   "metadata": {},
   "source": [
    "<img src=\"cov_mat.PNG\" width=\"100%\"/>"
   ]
  },
  {
   "cell_type": "code",
   "execution_count": 24,
   "metadata": {},
   "outputs": [
    {
     "name": "stdout",
     "output_type": "stream",
     "text": [
      "[-1.69031455e-15 -1.63702385e-15 -1.48251781e-15 -1.62314606e-15] \n\nCovariance matrix\n[[ 1.00671141 -0.11010327  0.87760486  0.82344326]\n [-0.11010327  1.00671141 -0.42333835 -0.358937  ]\n [ 0.87760486 -0.42333835  1.00671141  0.96921855]\n [ 0.82344326 -0.358937    0.96921855  1.00671141]]\n"
     ]
    }
   ],
   "source": [
    "import numpy as np\n",
    "mean_vec = np.mean(X_std,axis=0)\n",
    "\n",
    "print(mean_vec,\"\\n\")\n",
    "cov_mat = (X_std - mean_vec).T.dot((X_std - mean_vec))/(X_std.shape[0]-1)\n",
    "print ('Covariance matrix')\n",
    "print (cov_mat)"
   ]
  },
  {
   "cell_type": "code",
   "execution_count": 25,
   "metadata": {},
   "outputs": [
    {
     "data": {
      "text/plain": [
       "array([[ 1.00671141, -0.11010327,  0.87760486,  0.82344326],\n       [-0.11010327,  1.00671141, -0.42333835, -0.358937  ],\n       [ 0.87760486, -0.42333835,  1.00671141,  0.96921855],\n       [ 0.82344326, -0.358937  ,  0.96921855,  1.00671141]])"
      ]
     },
     "execution_count": 25,
     "metadata": {},
     "output_type": "execute_result"
    }
   ],
   "source": [
    "#Alternative\n",
    "cov_mat=np.cov(X_std.T)\n",
    "cov_mat"
   ]
  },
  {
   "cell_type": "markdown",
   "metadata": {},
   "source": [
    "### find eigenvalues and eigenvectors"
   ]
  },
  {
   "cell_type": "code",
   "execution_count": 26,
   "metadata": {},
   "outputs": [
    {
     "name": "stdout",
     "output_type": "stream",
     "text": [
      "Eigenvectors \n[[ 0.52237162 -0.37231836 -0.72101681  0.26199559]\n [-0.26335492 -0.92555649  0.24203288 -0.12413481]\n [ 0.58125401 -0.02109478  0.14089226 -0.80115427]\n [ 0.56561105 -0.06541577  0.6338014   0.52354627]]\n\nEigenvalues \n[2.93035378 0.92740362 0.14834223 0.02074601]\n"
     ]
    }
   ],
   "source": [
    "eig_vals,eig_vecs = np.linalg.eig(cov_mat)\n",
    "\n",
    "print('Eigenvectors \\n%s' %eig_vecs)\n",
    "print('\\nEigenvalues \\n%s' %eig_vals)"
   ]
  },
  {
   "cell_type": "markdown",
   "metadata": {},
   "source": [
    "### 2 - Selecting Principal Components"
   ]
  },
  {
   "cell_type": "markdown",
   "metadata": {},
   "source": [
    "In order to decide which eigenvector(s) can dropped without losing too much information for the construction of lower-dimensional subspace, we need to inspect the corresponding eigenvalues: The eigenvectors with the lowest eigenvalues bear the least information about the distribution of the data; those are the ones can be dropped."
   ]
  },
  {
   "cell_type": "code",
   "execution_count": 29,
   "metadata": {},
   "outputs": [
    {
     "name": "stdout",
     "output_type": "stream",
     "text": [
      "2.9303537755893188\n0.9274036215173416\n0.14834222648163942\n0.02074601399559591\n"
     ]
    }
   ],
   "source": [
    "#sort the eigenvalues in descending order\n",
    "eig_pairs = [(np.abs(eig_vals[i]),eig_vecs[:,i])for i in range(len(eig_vals))]\n",
    "for i in eig_pairs:\n",
    "    print (i[0])"
   ]
  },
  {
   "cell_type": "markdown",
   "metadata": {},
   "source": [
    "#### Explained Variance\n",
    "\n",
    "After sorting the eigenpairs, the next question is “how many principal components are we going to choose for our new feature subspace?” A useful measure is the so-called “explained variance,” which can be calculated from the eigenvalues. The explained variance tells us how much information (variance) can be attributed to each of the principal components."
   ]
  },
  {
   "cell_type": "code",
   "execution_count": 30,
   "metadata": {},
   "outputs": [
    {
     "name": "stdout",
     "output_type": "stream",
     "text": [
      "4.026845637583896\n[72.77045209380137, 23.030523267680632, 3.683831957627376, 0.5151926808906314]\n"
     ]
    }
   ],
   "source": [
    "tot = sum(eig_vals)\n",
    "print(tot)\n",
    "var_exp = [(i/tot)*100 for i in sorted(eig_vals,reverse=True)]\n",
    "print (var_exp)"
   ]
  },
  {
   "cell_type": "code",
   "execution_count": 31,
   "metadata": {},
   "outputs": [],
   "source": [
    "cum_var_exp = np.cumsum(var_exp)"
   ]
  },
  {
   "cell_type": "code",
   "execution_count": 32,
   "metadata": {},
   "outputs": [
    {
     "data": {
      "image/png": "[encoded data removed]",
      "text/plain": [
       "<Figure size 432x288 with 1 Axes>"
      ]
     },
     "metadata": {},
     "output_type": "display_data"
    }
   ],
   "source": [
    "\n",
    "import matplotlib.pyplot as plt\n",
    "\n",
    "plt.bar(range(4), var_exp,  align='center',\n",
    "        label='individual explained variance')\n",
    "plt.step(range(4), cum_var_exp, where='mid',\n",
    "         label='cumulative explained variance')\n",
    "plt.ylabel('Explained variance ratio')\n",
    "plt.xlabel('Principal components')\n",
    "plt.legend(loc='best')\n",
    "plt.tight_layout()\n"
   ]
  },
  {
   "cell_type": "markdown",
   "metadata": {},
   "source": [
    "The plot above clearly shows that most of the variance (72.77% of the variance to be precise) can be explained by the first principal component alone. The second principal component still bears some information (23.03%) while the third and fourth principal components can safely be dropped without losing to much information. Together, the first two principal components contain 95.8% of the information."
   ]
  },
  {
   "cell_type": "code",
   "execution_count": 33,
   "metadata": {},
   "outputs": [
    {
     "name": "stdout",
     "output_type": "stream",
     "text": [
      "(2.9303537755893188, array([ 0.52237162, -0.26335492,  0.58125401,  0.56561105]))\n(0.9274036215173416, array([-0.37231836, -0.92555649, -0.02109478, -0.06541577]))\n(0.14834222648163942, array([-0.72101681,  0.24203288,  0.14089226,  0.6338014 ]))\n(0.02074601399559591, array([ 0.26199559, -0.12413481, -0.80115427,  0.52354627]))\n"
     ]
    }
   ],
   "source": [
    "for i in eig_pairs:\n",
    "    print (i)"
   ]
  },
  {
   "cell_type": "code",
   "execution_count": 34,
   "metadata": {},
   "outputs": [
    {
     "name": "stdout",
     "output_type": "stream",
     "text": [
      "[[ 0.52237162 -0.37231836]\n [-0.26335492 -0.92555649]\n [ 0.58125401 -0.02109478]\n [ 0.56561105 -0.06541577]]\n"
     ]
    }
   ],
   "source": [
    "#Take a sequence of arrays and stack them horizontally to make a single array.\n",
    "matrix_w = np.hstack((eig_pairs[0][1].reshape(4,1),\n",
    "                      eig_pairs[1][1].reshape(4,1)))\n",
    "\n",
    "print  (matrix_w)\n"
   ]
  },
  {
   "cell_type": "markdown",
   "metadata": {},
   "source": [
    "### 3 - Projection Onto the New Feature Space\n",
    "\n",
    "In this last step we will use the 4×2-dimensional projection matrix W to transform our samples onto the new subspace via the equation\n",
    "\n",
    "Y=X×W, where Y is a 150×2 matrix of our transformed samples."
   ]
  },
  {
   "cell_type": "code",
   "execution_count": 35,
   "metadata": {},
   "outputs": [
    {
     "data": {
      "text/plain": [
       "((150, 4), (4, 2))"
      ]
     },
     "execution_count": 35,
     "metadata": {},
     "output_type": "execute_result"
    }
   ],
   "source": [
    "X_std.shape,matrix_w.shape"
   ]
  },
  {
   "cell_type": "code",
   "execution_count": 37,
   "metadata": {},
   "outputs": [
    {
     "name": "stdout",
     "output_type": "stream",
     "text": [
      "[[-2.26454173e+00 -5.05703903e-01]\n [-2.08642550e+00  6.55404729e-01]\n [-2.36795045e+00  3.18477311e-01]\n [-2.30419716e+00  5.75367713e-01]\n [-2.38877749e+00 -6.74767397e-01]\n [-2.07053681e+00 -1.51854856e+00]\n [-2.44571134e+00 -7.45626750e-02]\n [-2.23384186e+00 -2.47613932e-01]\n [-2.34195768e+00  1.09514636e+00]\n [-2.18867576e+00  4.48629048e-01]\n [-2.16348656e+00 -1.07059558e+00]\n [-2.32737775e+00 -1.58587455e-01]\n [-2.22408272e+00  7.09118158e-01]\n [-2.63971626e+00  9.38281982e-01]\n [-2.19229151e+00 -1.88997851e+00]\n [-2.25146521e+00 -2.72237108e+00]\n [-2.20275048e+00 -1.51375028e+00]\n [-2.19017916e+00 -5.14304308e-01]\n [-1.89407429e+00 -1.43111071e+00]\n [-2.33994907e+00 -1.15803343e+00]\n [-1.91455639e+00 -4.30465163e-01]\n [-2.20464540e+00 -9.52457317e-01]\n [-2.77416979e+00 -4.89517027e-01]\n [-1.82041156e+00 -1.06750793e-01]\n [-2.22821750e+00 -1.62186163e-01]\n [-1.95702401e+00  6.07892567e-01]\n [-2.05206331e+00 -2.66014312e-01]\n [-2.16819365e+00 -5.52016495e-01]\n [-2.14030596e+00 -3.36640409e-01]\n [-2.26879019e+00  3.14878603e-01]\n [-2.14455443e+00  4.83942097e-01]\n [-1.83193810e+00 -4.45266836e-01]\n [-2.60820287e+00 -1.82847519e+00]\n [-2.43795086e+00 -2.18539162e+00]\n [-2.18867576e+00  4.48629048e-01]\n [-2.21111990e+00  1.84337811e-01]\n [-2.04441652e+00 -6.84956426e-01]\n [-2.18867576e+00  4.48629048e-01]\n [-2.43595220e+00  8.82169415e-01]\n [-2.17054720e+00 -2.92726955e-01]\n [-2.28652724e+00 -4.67991716e-01]\n [-1.87170722e+00  2.32769161e+00]\n [-2.55783442e+00  4.53816380e-01]\n [-1.96427929e+00 -4.97391640e-01]\n [-2.13337283e+00 -1.17143211e+00]\n [-2.07535759e+00  6.91917347e-01]\n [-2.38125822e+00 -1.15063259e+00]\n [-2.39819169e+00  3.62390765e-01]\n [-2.22678121e+00 -1.02548255e+00]\n [-2.20595417e+00 -3.22378453e-02]\n [ 1.10399365e+00 -8.63112446e-01]\n [ 7.32481440e-01 -5.98635573e-01]\n [ 1.24210951e+00 -6.14822450e-01]\n [ 3.97307283e-01  1.75816895e+00]\n [ 1.07259395e+00  2.11757903e-01]\n [ 3.84458146e-01  5.91062469e-01]\n [ 7.48715076e-01 -7.78698611e-01]\n [-4.97863388e-01  1.84886877e+00]\n [ 9.26222368e-01 -3.03308268e-02]\n [ 4.96802558e-03  1.02940111e+00]\n [-1.24697461e-01  2.65806268e+00]\n [ 4.38730118e-01  5.88812850e-02]\n [ 5.51633981e-01  1.77258156e+00]\n [ 7.17165066e-01  1.85434315e-01]\n [-3.72583830e-02  4.32795099e-01]\n [ 8.75890536e-01 -5.09998151e-01]\n [ 3.48006402e-01  1.90621647e-01]\n [ 1.53392545e-01  7.90725456e-01]\n [ 1.21530321e+00  1.63335564e+00]\n [ 1.56941176e-01  1.30310327e+00]\n [ 7.38256104e-01 -4.02470382e-01]\n [ 4.72369682e-01  4.16608222e-01]\n [ 1.22798821e+00  9.40914793e-01]\n [ 6.29381045e-01  4.16811643e-01]\n [ 7.00472799e-01  6.34939277e-02]\n [ 8.73536987e-01 -2.50708611e-01]\n [ 1.25422219e+00  8.26200998e-02]\n [ 1.35823985e+00 -3.28820266e-01]\n [ 6.62126138e-01  2.24346071e-01]\n [-4.72815133e-02  1.05721241e+00]\n [ 1.21534209e-01  1.56359238e+00]\n [ 1.41182261e-02  1.57339235e+00]\n [ 2.36010837e-01  7.75923784e-01]\n [ 1.05669143e+00  6.36901284e-01]\n [ 2.21417088e-01  2.80847693e-01]\n [ 4.31783161e-01 -8.55136920e-01]\n [ 1.04941336e+00 -5.22197265e-01]\n [ 1.03587821e+00  1.39246648e+00]\n [ 6.70675999e-02  2.12620735e-01]\n [ 2.75425066e-01  1.32981591e+00]\n [ 2.72335066e-01  1.11944152e+00]\n [ 6.23170540e-01 -2.75426333e-02]\n [ 3.30005364e-01  9.88900732e-01]\n [-3.73627623e-01  2.01793227e+00]\n [ 2.82944343e-01  8.53950717e-01]\n [ 8.90531103e-02  1.74908548e-01]\n [ 2.24356783e-01  3.80484659e-01]\n [ 5.73883486e-01  1.53719974e-01]\n [-4.57012873e-01  1.53946451e+00]\n [ 2.52244473e-01  5.95860746e-01]\n [ 1.84767259e+00 -8.71696662e-01]\n [ 1.15318981e+00  7.01326114e-01]\n [ 2.20634950e+00 -5.54470105e-01]\n [ 1.43868540e+00  5.00105223e-02]\n [ 1.86789070e+00 -2.91192802e-01]\n [ 2.75419671e+00 -7.88432206e-01]\n [ 3.58374475e-01  1.56009458e+00]\n [ 2.30300590e+00 -4.09516695e-01]\n [ 2.00173530e+00  7.23865359e-01]\n [ 2.26755460e+00 -1.92144299e+00]\n [ 1.36590943e+00 -6.93948040e-01]\n [ 1.59906459e+00  4.28248836e-01]\n [ 1.88425185e+00 -4.14332758e-01]\n [ 1.25308651e+00  1.16739134e+00]\n [ 1.46406152e+00  4.44147569e-01]\n [ 1.59180930e+00 -6.77035372e-01]\n [ 1.47128019e+00 -2.53192472e-01]\n [ 2.43737848e+00 -2.55675734e+00]\n [ 3.30914118e+00  2.36132010e-03]\n [ 1.25398099e+00  1.71758384e+00]\n [ 2.04049626e+00 -9.07398765e-01]\n [ 9.73915114e-01  5.71174376e-01]\n [ 2.89806444e+00 -3.97791359e-01]\n [ 1.32919369e+00  4.86760542e-01]\n [ 1.70424071e+00 -1.01414842e+00]\n [ 1.95772766e+00 -1.00333452e+00]\n [ 1.17190451e+00  3.18896617e-01]\n [ 1.01978105e+00 -6.55429631e-02]\n [ 1.78600886e+00  1.93272800e-01]\n [ 1.86477791e+00 -5.55381532e-01]\n [ 2.43549739e+00 -2.46654468e-01]\n [ 2.31608241e+00 -2.62618387e+00]\n [ 1.86037143e+00  1.84672394e-01]\n [ 1.11127173e+00  2.95986102e-01]\n [ 1.19746916e+00  8.17167742e-01]\n [ 2.80094940e+00 -8.44748194e-01]\n [ 1.58015525e+00 -1.07247450e+00]\n [ 1.34704442e+00 -4.22255966e-01]\n [ 9.23432978e-01 -1.92303705e-02]\n [ 1.85355198e+00 -6.72422729e-01]\n [ 2.01615720e+00 -6.10397038e-01]\n [ 1.90311686e+00 -6.86024832e-01]\n [ 1.15318981e+00  7.01326114e-01]\n [ 2.04330844e+00 -8.64684880e-01]\n [ 2.00169097e+00 -1.04855005e+00]\n [ 1.87052207e+00 -3.82821838e-01]\n [ 1.55849189e+00  9.05313601e-01]\n [ 1.52084506e+00 -2.66794575e-01]\n [ 1.37639119e+00 -1.01636193e+00]\n [ 9.59298576e-01  2.22839447e-02]]\n"
     ]
    }
   ],
   "source": [
    "Y =X_std.dot(matrix_w)\n",
    "print(Y)"
   ]
  },
  {
   "cell_type": "code",
   "execution_count": 38,
   "metadata": {},
   "outputs": [
    {
     "data": {
      "text/plain": [
       "(150, 2)"
      ]
     },
     "execution_count": 38,
     "metadata": {},
     "output_type": "execute_result"
    }
   ],
   "source": [
    "Y.shape"
   ]
  },
  {
   "cell_type": "code",
   "execution_count": 39,
   "metadata": {},
   "outputs": [
    {
     "data": {
      "image/png": "[encoded data removed]",
      "text/plain": [
       "<Figure size 432x288 with 1 Axes>"
      ]
     },
     "metadata": {},
     "output_type": "display_data"
    }
   ],
   "source": [
    "colors = ['blue', 'red', 'green']\n",
    "\n",
    "for lab,col in zip(np.unique(y) ,colors):\n",
    "    plt.scatter(Y[y==lab,0],Y[y==lab,1],label=lab,c=col)\n",
    "    \n",
    "plt.xlabel('Principal Component 1')\n",
    "plt.ylabel('Principal Component 2')\n",
    "plt.legend(loc='lower center')\n",
    "plt.tight_layout()\n",
    "plt.show()\n",
    "    "
   ]
  },
  {
   "cell_type": "markdown",
   "metadata": {},
   "source": [
    "### Shortcut - PCA in scikit-learn"
   ]
  },
  {
   "cell_type": "code",
   "execution_count": 40,
   "metadata": {},
   "outputs": [],
   "source": [
    "pca = PCA(n_components=2)\n",
    "\n",
    "X_train_pca = pca.fit_transform(X_std)"
   ]
  },
  {
   "cell_type": "code",
   "execution_count": 41,
   "metadata": {},
   "outputs": [
    {
     "data": {
      "text/plain": [
       "(150, 2)"
      ]
     },
     "execution_count": 41,
     "metadata": {},
     "output_type": "execute_result"
    }
   ],
   "source": [
    "X_train_pca.shape"
   ]
  },
  {
   "cell_type": "code",
   "execution_count": 42,
   "metadata": {},
   "outputs": [
    {
     "data": {
      "image/png": "[encoded data removed]",
      "text/plain": [
       "<Figure size 432x288 with 1 Axes>"
      ]
     },
     "metadata": {},
     "output_type": "display_data"
    }
   ],
   "source": [
    "colors = ['blue', 'red', 'green']\n",
    "\n",
    "for lab,col in zip(np.unique(y) ,colors):\n",
    "    plt.scatter(X_train_pca[y==lab,0],X_train_pca[y==lab,1],label=lab,c=col)\n",
    "    \n",
    "plt.xlabel('Principal Component 1')\n",
    "plt.ylabel('Principal Component 2')\n",
    "plt.legend(loc='lower right')\n",
    "plt.tight_layout()\n",
    "plt.show()\n",
    "    "
   ]
  },
  {
   "cell_type": "code",
   "execution_count": 43,
   "metadata": {},
   "outputs": [
    {
     "data": {
      "text/plain": [
       "array([0.72770452, 0.23030523])"
      ]
     },
     "execution_count": 43,
     "metadata": {},
     "output_type": "execute_result"
    }
   ],
   "source": [
    "pca.explained_variance_ratio_"
   ]
  },
  {
   "cell_type": "code",
   "execution_count": null,
   "metadata": {
    "collapsed": true
   },
   "outputs": [],
   "source": []
  }
 ],
 "metadata": {
  "kernelspec": {
   "display_name": "Python 3",
   "language": "python",
   "name": "python3"
  },
  "language_info": {
   "codemirror_mode": {
    "name": "ipython",
    "version": 3
   },
   "file_extension": ".py",
   "mimetype": "text/x-python",
   "name": "python",
   "nbconvert_exporter": "python",
   "pygments_lexer": "ipython3",
   "version": "3.6.5"
  }
 },
 "nbformat": 4,
 "nbformat_minor": 2
}
