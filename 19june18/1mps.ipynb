{
 "cells": [
  {
   "cell_type": "code",
   "execution_count": 83,
   "metadata": {
    "collapsed": true
   },
   "outputs": [
    {
     "name": "stdout",
     "output_type": "stream",
     "text": [
      "{'data': array([[ 0.,  0.,  5., ...,  0.,  0.,  0.],\n       [ 0.,  0.,  0., ..., 10.,  0.,  0.],\n       [ 0.,  0.,  0., ..., 16.,  9.,  0.],\n       ...,\n       [ 0.,  0.,  1., ...,  6.,  0.,  0.],\n       [ 0.,  0.,  2., ..., 12.,  0.,  0.],\n       [ 0.,  0., 10., ..., 12.,  1.,  0.]]), 'target': array([0, 1, 2, ..., 8, 9, 8]), 'target_names': array([0, 1, 2, 3, 4, 5, 6, 7, 8, 9]), 'images': array([[[ 0.,  0.,  5., ...,  1.,  0.,  0.],\n        [ 0.,  0., 13., ..., 15.,  5.,  0.],\n        [ 0.,  3., 15., ..., 11.,  8.,  0.],\n        ...,\n        [ 0.,  4., 11., ..., 12.,  7.,  0.],\n        [ 0.,  2., 14., ..., 12.,  0.,  0.],\n        [ 0.,  0.,  6., ...,  0.,  0.,  0.]],\n\n       [[ 0.,  0.,  0., ...,  5.,  0.,  0.],\n        [ 0.,  0.,  0., ...,  9.,  0.,  0.],\n        [ 0.,  0.,  3., ...,  6.,  0.,  0.],\n        ...,\n        [ 0.,  0.,  1., ...,  6.,  0.,  0.],\n        [ 0.,  0.,  1., ...,  6.,  0.,  0.],\n        [ 0.,  0.,  0., ..., 10.,  0.,  0.]],\n\n       [[ 0.,  0.,  0., ..., 12.,  0.,  0.],\n        [ 0.,  0.,  3., ..., 14.,  0.,  0.],\n        [ 0.,  0.,  8., ..., 16.,  0.,  0.],\n        ...,\n        [ 0.,  9., 16., ...,  0.,  0.,  0.],\n        [ 0.,  3., 13., ..., 11.,  5.,  0.],\n        [ 0.,  0.,  0., ..., 16.,  9.,  0.]],\n\n       ...,\n\n       [[ 0.,  0.,  1., ...,  1.,  0.,  0.],\n        [ 0.,  0., 13., ...,  2.,  1.,  0.],\n        [ 0.,  0., 16., ..., 16.,  5.,  0.],\n        ...,\n        [ 0.,  0., 16., ..., 15.,  0.,  0.],\n        [ 0.,  0., 15., ..., 16.,  0.,  0.],\n        [ 0.,  0.,  2., ...,  6.,  0.,  0.]],\n\n       [[ 0.,  0.,  2., ...,  0.,  0.,  0.],\n        [ 0.,  0., 14., ..., 15.,  1.,  0.],\n        [ 0.,  4., 16., ..., 16.,  7.,  0.],\n        ...,\n        [ 0.,  0.,  0., ..., 16.,  2.,  0.],\n        [ 0.,  0.,  4., ..., 16.,  2.,  0.],\n        [ 0.,  0.,  5., ..., 12.,  0.,  0.]],\n\n       [[ 0.,  0., 10., ...,  1.,  0.,  0.],\n        [ 0.,  2., 16., ...,  1.,  0.,  0.],\n        [ 0.,  0., 15., ..., 15.,  0.,  0.],\n        ...,\n        [ 0.,  4., 16., ..., 16.,  6.,  0.],\n        [ 0.,  8., 16., ..., 16.,  8.,  0.],\n        [ 0.,  1.,  8., ..., 12.,  1.,  0.]]]), 'DESCR': \"Optical Recognition of Handwritten Digits Data Set\\n===================================================\\n\\nNotes\\n-----\\nData Set Characteristics:\\n    :Number of Instances: 5620\\n    :Number of Attributes: 64\\n    :Attribute Information: 8x8 image of integer pixels in the range 0..16.\\n    :Missing Attribute Values: None\\n    :Creator: E. Alpaydin (alpaydin '@' boun.edu.tr)\\n    :Date: July; 1998\\n\\nThis is a copy of the test set of the UCI ML hand-written digits datasets\\nhttp://archive.ics.uci.edu/ml/datasets/Optical+Recognition+of+Handwritten+Digits\\n\\nThe data set contains images of hand-written digits: 10 classes where\\neach class refers to a digit.\\n\\nPreprocessing programs made available by NIST were used to extract\\nnormalized bitmaps of handwritten digits from a preprinted form. From a\\ntotal of 43 people, 30 contributed to the training set and different 13\\nto the test set. 32x32 bitmaps are divided into nonoverlapping blocks of\\n4x4 and the number of on pixels are counted in each block. This generates\\nan input matrix of 8x8 where each element is an integer in the range\\n0..16. This reduces dimensionality and gives invariance to small\\ndistortions.\\n\\nFor info on NIST preprocessing routines, see M. D. Garris, J. L. Blue, G.\\nT. Candela, D. L. Dimmick, J. Geist, P. J. Grother, S. A. Janet, and C.\\nL. Wilson, NIST Form-Based Handprint Recognition System, NISTIR 5469,\\n1994.\\n\\nReferences\\n----------\\n  - C. Kaynak (1995) Methods of Combining Multiple Classifiers and Their\\n    Applications to Handwritten Digit Recognition, MSc Thesis, Institute of\\n    Graduate Studies in Science and Engineering, Bogazici University.\\n  - E. Alpaydin, C. Kaynak (1998) Cascading Classifiers, Kybernetika.\\n  - Ken Tang and Ponnuthurai N. Suganthan and Xi Yao and A. Kai Qin.\\n    Linear dimensionalityreduction using relevance weighted LDA. School of\\n    Electrical and Electronic Engineering Nanyang Technological University.\\n    2005.\\n  - Claudio Gentile. A New Approximate Maximal Margin Classification\\n    Algorithm. NIPS. 2000.\\n\"}\n"
     ]
    }
   ],
   "source": [
    "from sklearn.datasets import load_digits\n",
    "digits=load_digits()\n",
    "##sklearn comes with a few small standard datasets that do not require to download any file from \n",
    "# some external website. load_digits includes around \n",
    "# 1800 samples of size 8X8 from the UCI ML dataset:\n",
    "\n",
    "\n",
    "print(digits)\n"
   ]
  },
  {
   "cell_type": "code",
   "execution_count": 84,
   "metadata": {
    "collapsed": true
   },
   "outputs": [
    {
     "name": "stdout",
     "output_type": "stream",
     "text": [
      "[[ 0.  0.  5. ...  0.  0.  0.]\n [ 0.  0.  0. ... 10.  0.  0.]\n [ 0.  0.  0. ... 16.  9.  0.]\n ...\n [ 0.  0.  1. ...  6.  0.  0.]\n [ 0.  0.  2. ... 12.  0.  0.]\n [ 0.  0. 10. ... 12.  1.  0.]]\n"
     ]
    }
   ],
   "source": [
    "\n",
    "print(digits['data'])\n"
   ]
  },
  {
   "cell_type": "code",
   "execution_count": 85,
   "metadata": {
    "collapsed": true
   },
   "outputs": [
    {
     "name": "stdout",
     "output_type": "stream",
     "text": [
      "[0 1 2 ... 8 9 8]\n"
     ]
    }
   ],
   "source": [
    "print(digits['target'])\n"
   ]
  },
  {
   "cell_type": "code",
   "execution_count": 74,
   "metadata": {
    "collapsed": true
   },
   "outputs": [
    {
     "name": "stdout",
     "output_type": "stream",
     "text": [
      "[[[ 0.  0.  5. ...  1.  0.  0.]\n  [ 0.  0. 13. ... 15.  5.  0.]\n  [ 0.  3. 15. ... 11.  8.  0.]\n  ...\n  [ 0.  4. 11. ... 12.  7.  0.]\n  [ 0.  2. 14. ... 12.  0.  0.]\n  [ 0.  0.  6. ...  0.  0.  0.]]\n\n [[ 0.  0.  0. ...  5.  0.  0.]\n  [ 0.  0.  0. ...  9.  0.  0.]\n  [ 0.  0.  3. ...  6.  0.  0.]\n  ...\n  [ 0.  0.  1. ...  6.  0.  0.]\n  [ 0.  0.  1. ...  6.  0.  0.]\n  [ 0.  0.  0. ... 10.  0.  0.]]\n\n [[ 0.  0.  0. ... 12.  0.  0.]\n  [ 0.  0.  3. ... 14.  0.  0.]\n  [ 0.  0.  8. ... 16.  0.  0.]\n  ...\n  [ 0.  9. 16. ...  0.  0.  0.]\n  [ 0.  3. 13. ... 11.  5.  0.]\n  [ 0.  0.  0. ... 16.  9.  0.]]\n\n ...\n\n [[ 0.  0.  1. ...  1.  0.  0.]\n  [ 0.  0. 13. ...  2.  1.  0.]\n  [ 0.  0. 16. ... 16.  5.  0.]\n  ...\n  [ 0.  0. 16. ... 15.  0.  0.]\n  [ 0.  0. 15. ... 16.  0.  0.]\n  [ 0.  0.  2. ...  6.  0.  0.]]\n\n [[ 0.  0.  2. ...  0.  0.  0.]\n  [ 0.  0. 14. ... 15.  1.  0.]\n  [ 0.  4. 16. ... 16.  7.  0.]\n  ...\n  [ 0.  0.  0. ... 16.  2.  0.]\n  [ 0.  0.  4. ... 16.  2.  0.]\n  [ 0.  0.  5. ... 12.  0.  0.]]\n\n [[ 0.  0. 10. ...  1.  0.  0.]\n  [ 0.  2. 16. ...  1.  0.  0.]\n  [ 0.  0. 15. ... 15.  0.  0.]\n  ...\n  [ 0.  4. 16. ... 16.  6.  0.]\n  [ 0.  8. 16. ... 16.  8.  0.]\n  [ 0.  1.  8. ... 12.  1.  0.]]]\n"
     ]
    }
   ],
   "source": [
    "\n",
    "print(digits['images'])"
   ]
  },
  {
   "cell_type": "code",
   "execution_count": 87,
   "metadata": {},
   "outputs": [
    {
     "name": "stdout",
     "output_type": "stream",
     "text": [
      "[[[ 0.  0.  5. ...  1.  0.  0.]\n  [ 0.  0. 13. ... 15.  5.  0.]\n  [ 0.  3. 15. ... 11.  8.  0.]\n  ...\n  [ 0.  4. 11. ... 12.  7.  0.]\n  [ 0.  2. 14. ... 12.  0.  0.]\n  [ 0.  0.  6. ...  0.  0.  0.]]\n\n [[ 0.  0.  0. ...  5.  0.  0.]\n  [ 0.  0.  0. ...  9.  0.  0.]\n  [ 0.  0.  3. ...  6.  0.  0.]\n  ...\n  [ 0.  0.  1. ...  6.  0.  0.]\n  [ 0.  0.  1. ...  6.  0.  0.]\n  [ 0.  0.  0. ... 10.  0.  0.]]\n\n [[ 0.  0.  0. ... 12.  0.  0.]\n  [ 0.  0.  3. ... 14.  0.  0.]\n  [ 0.  0.  8. ... 16.  0.  0.]\n  ...\n  [ 0.  9. 16. ...  0.  0.  0.]\n  [ 0.  3. 13. ... 11.  5.  0.]\n  [ 0.  0.  0. ... 16.  9.  0.]]\n\n ...\n\n [[ 0.  0.  1. ...  1.  0.  0.]\n  [ 0.  0. 13. ...  2.  1.  0.]\n  [ 0.  0. 16. ... 16.  5.  0.]\n  ...\n  [ 0.  0. 16. ... 15.  0.  0.]\n  [ 0.  0. 15. ... 16.  0.  0.]\n  [ 0.  0.  2. ...  6.  0.  0.]]\n\n [[ 0.  0.  2. ...  0.  0.  0.]\n  [ 0.  0. 14. ... 15.  1.  0.]\n  [ 0.  4. 16. ... 16.  7.  0.]\n  ...\n  [ 0.  0.  0. ... 16.  2.  0.]\n  [ 0.  0.  4. ... 16.  2.  0.]\n  [ 0.  0.  5. ... 12.  0.  0.]]\n\n [[ 0.  0. 10. ...  1.  0.  0.]\n  [ 0.  2. 16. ...  1.  0.  0.]\n  [ 0.  0. 15. ... 15.  0.  0.]\n  ...\n  [ 0.  4. 16. ... 16.  6.  0.]\n  [ 0.  8. 16. ... 16.  8.  0.]\n  [ 0.  1.  8. ... 12.  1.  0.]]]\n"
     ]
    }
   ],
   "source": [
    "x_new=digits.images   #this is used to load the value of images key/lable from digits dictionary\n",
    "print(x_new)\n"
   ]
  },
  {
   "cell_type": "code",
   "execution_count": 88,
   "metadata": {},
   "outputs": [
    {
     "name": "stdout",
     "output_type": "stream",
     "text": [
      "[[ 0.  0.  5. ...  0.  0.  0.]\n [ 0.  0.  0. ... 10.  0.  0.]\n [ 0.  0.  0. ... 16.  9.  0.]\n ...\n [ 0.  0.  1. ...  6.  0.  0.]\n [ 0.  0.  2. ... 12.  0.  0.]\n [ 0.  0. 10. ... 12.  1.  0.]]\n(1797, 64)\n"
     ]
    }
   ],
   "source": [
    "\n",
    "x=digits.data  #this is used to load the value of data key/lable from digits dictionary\n",
    "print(x)\n",
    "#x[0].shape\n",
    "print(x.shape)    #print the dimensions\n",
    "\n"
   ]
  },
  {
   "cell_type": "code",
   "execution_count": 89,
   "metadata": {},
   "outputs": [
    {
     "name": "stdout",
     "output_type": "stream",
     "text": [
      "[[[ 0.  0.  5. ...  1.  0.  0.]\n  [ 0.  0. 13. ... 15.  5.  0.]\n  [ 0.  3. 15. ... 11.  8.  0.]\n  ...\n  [ 0.  4. 11. ... 12.  7.  0.]\n  [ 0.  2. 14. ... 12.  0.  0.]\n  [ 0.  0.  6. ...  0.  0.  0.]]\n\n [[ 0.  0.  0. ...  5.  0.  0.]\n  [ 0.  0.  0. ...  9.  0.  0.]\n  [ 0.  0.  3. ...  6.  0.  0.]\n  ...\n  [ 0.  0.  1. ...  6.  0.  0.]\n  [ 0.  0.  1. ...  6.  0.  0.]\n  [ 0.  0.  0. ... 10.  0.  0.]]\n\n [[ 0.  0.  0. ... 12.  0.  0.]\n  [ 0.  0.  3. ... 14.  0.  0.]\n  [ 0.  0.  8. ... 16.  0.  0.]\n  ...\n  [ 0.  9. 16. ...  0.  0.  0.]\n  [ 0.  3. 13. ... 11.  5.  0.]\n  [ 0.  0.  0. ... 16.  9.  0.]]\n\n ...\n\n [[ 0.  0.  1. ...  1.  0.  0.]\n  [ 0.  0. 13. ...  2.  1.  0.]\n  [ 0.  0. 16. ... 16.  5.  0.]\n  ...\n  [ 0.  0. 16. ... 15.  0.  0.]\n  [ 0.  0. 15. ... 16.  0.  0.]\n  [ 0.  0.  2. ...  6.  0.  0.]]\n\n [[ 0.  0.  2. ...  0.  0.  0.]\n  [ 0.  0. 14. ... 15.  1.  0.]\n  [ 0.  4. 16. ... 16.  7.  0.]\n  ...\n  [ 0.  0.  0. ... 16.  2.  0.]\n  [ 0.  0.  4. ... 16.  2.  0.]\n  [ 0.  0.  5. ... 12.  0.  0.]]\n\n [[ 0.  0. 10. ...  1.  0.  0.]\n  [ 0.  2. 16. ...  1.  0.  0.]\n  [ 0.  0. 15. ... 15.  0.  0.]\n  ...\n  [ 0.  4. 16. ... 16.  6.  0.]\n  [ 0.  8. 16. ... 16.  8.  0.]\n  [ 0.  1.  8. ... 12.  1.  0.]]]\nafter 1\n[[ 0.  0.  5. ...  0.  0.  0.]\n [ 0.  0.  0. ... 10.  0.  0.]\n [ 0.  0.  0. ... 16.  9.  0.]\n ...\n [ 0.  0.  1. ...  6.  0.  0.]\n [ 0.  0.  2. ... 12.  0.  0.]\n [ 0.  0. 10. ... 12.  1.  0.]]\n"
     ]
    },
    {
     "data": {
      "text/plain": [
       "\"x_new=x_new.reshape(1,-1)\\nprint('after 2')\\nprint(x_new)\""
      ]
     },
     "execution_count": 89,
     "metadata": {},
     "output_type": "execute_result"
    }
   ],
   "source": [
    "print(x_new)\n",
    "x_new=x_new.reshape(len(x_new),-1)\n",
    "print('after 1')\n",
    "print(x_new)\n",
    "\n",
    "##this is test code\n",
    "'''x_new=x_new.reshape(1,-1)\n",
    "print('after 2')\n",
    "print(x_new)'''\n",
    "\n",
    "\n",
    "##reshape is used to change the dimensions of the array \n",
    "# for ex a=[[12 3],\n",
    "#           [56 2],\n",
    "#           [5  2]]     is a 3 by 2 array\n",
    "\n",
    "\n",
    "# now if we apply a=a.reshape(2,3) then it will becomw\n",
    "#     a=[[12 3 56],\n",
    "#        [2  5  2]]  is a 2 by 3 array\n",
    "# for better understanding lets take a example in next shell"
   ]
  },
  {
   "cell_type": "code",
   "execution_count": 90,
   "metadata": {},
   "outputs": [
    {
     "name": "stdout",
     "output_type": "stream",
     "text": [
      "FIREST\n[0 1 2 3 4 5]\nsecond\n[[0 1]\n [2 3]\n [4 5]]\nthird\n[[0 1 2]\n [3 4 5]]\n"
     ]
    }
   ],
   "source": [
    "import numpy as np\n",
    "a=np.arange(6)\n",
    "print('FIREST')\n",
    "print(a)\n",
    "\n",
    "a=a.reshape(3,2)\n",
    "print('second')\n",
    "print(a)\n",
    "\n",
    "a=a.reshape(2,3)\n",
    "print('third')\n",
    "print(a)\n",
    "\n"
   ]
  },
  {
   "cell_type": "code",
   "execution_count": 91,
   "metadata": {},
   "outputs": [
    {
     "data": {
      "text/plain": [
       "(1797, 64)"
      ]
     },
     "execution_count": 91,
     "metadata": {},
     "output_type": "execute_result"
    }
   ],
   "source": [
    "x_new.shape  #print the dimensions"
   ]
  },
  {
   "cell_type": "code",
   "execution_count": 42,
   "metadata": {},
   "outputs": [],
   "source": [
    "y=digits.target   #this is used to load the value of target key/lable from digits dictionary"
   ]
  },
  {
   "cell_type": "code",
   "execution_count": 92,
   "metadata": {},
   "outputs": [],
   "source": [
    "\n",
    "import matplotlib.pyplot as plt  #importing matplot to plot data graphically"
   ]
  },
  {
   "cell_type": "code",
   "execution_count": 99,
   "metadata": {},
   "outputs": [
    {
     "name": "stdout",
     "output_type": "stream",
     "text": [
      "(1797, 8, 8)\n\n"
     ]
    },
    {
     "data": {
      "image/png": "[encoded data removed]",
      "text/plain": [
       "<Figure size 432x288 with 1 Axes>"
      ]
     },
     "metadata": {},
     "output_type": "display_data"
    }
   ],
   "source": [
    "print(digits.images.shape)   ## this line shows that images key/label of digits of sk learn contains total\n",
    "#1797 images data\n",
    "print()\n",
    "plt.imshow(digits.images[150],cmap='Blues')   #graph of image data 150\n",
    "plt.show()\n",
    "\n"
   ]
  },
  {
   "cell_type": "code",
   "execution_count": 101,
   "metadata": {},
   "outputs": [
    {
     "data": {
      "image/png": "[encoded data removed]",
      "text/plain": [
       "<Figure size 432x288 with 1 Axes>"
      ]
     },
     "metadata": {},
     "output_type": "display_data"
    }
   ],
   "source": [
    "plt.imshow(digits.images[15],cmap='OrRd')    #graph of image data 15\n",
    "plt.show()"
   ]
  },
  {
   "cell_type": "code",
   "execution_count": 112,
   "metadata": {},
   "outputs": [
    {
     "data": {
      "image/png": "[encoded data removed]",
      "text/plain": [
       "<Figure size 432x288 with 1 Axes>"
      ]
     },
     "metadata": {},
     "output_type": "display_data"
    }
   ],
   "source": [
    "ttt=digits.images[1700]\n",
    "plt.imshow(ttt,cmap='BuPu')    #graph of image data 1700\n",
    "plt.xlabel(\"X -axis\")\n",
    "plt.ylabel('Y -axis')\n",
    "\n",
    "plt.show()"
   ]
  },
  {
   "cell_type": "code",
   "execution_count": null,
   "metadata": {},
   "outputs": [],
   "source": []
  }
 ],
 "metadata": {
  "kernelspec": {
   "display_name": "Python 2",
   "language": "python",
   "name": "python2"
  },
  "language_info": {
   "codemirror_mode": {
    "name": "ipython",
    "version": 2
   },
   "file_extension": ".py",
   "mimetype": "text/x-python",
   "name": "python",
   "nbconvert_exporter": "python",
   "pygments_lexer": "ipython2",
   "version": "2.7.6"
  }
 },
 "nbformat": 4,
 "nbformat_minor": 0
}
