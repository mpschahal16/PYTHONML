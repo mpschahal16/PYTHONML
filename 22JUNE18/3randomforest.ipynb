{
 "cells": [
  {
   "cell_type": "code",
   "execution_count": 5,
   "metadata": {
    "collapsed": true
   },
   "outputs": [
    {
     "name": "stdout",
     "output_type": "stream",
     "text": [
      "0.9657142857142857\n[[ 7 10 10  8  7 10  9  7  1]\n [ 1  2  1  4  1  2  4  2  1]]\n[4 2]\n"
     ]
    }
   ],
   "source": [
    "import numpy as np\n",
    "from sklearn import cross_validation\n",
    "from sklearn.ensemble import RandomForestClassifier\n",
    "\n",
    "import pandas as pd\n",
    "\n",
    "df=pd.read_csv('/home/manpreet/mps/breast-cancer-wisconsin.data.csv')\n",
    "#print(df)\n",
    "df.replace('?',-99999,inplace=True)\n",
    "\n",
    "df.drop(['id'],1,inplace=True)\n",
    "#print(df)\n",
    "\n",
    "x=np.array(df.drop(['class'],1))\n",
    "y=np.array(df['class'])\n",
    "\n",
    "x_train,x_test,y_train,y_test=cross_validation.train_test_split(x,y)\n",
    "\n",
    "clf=RandomForestClassifier()\n",
    "clf.fit(x_train,y_train)\n",
    "\n",
    "acc=clf.score(x_test,y_test)\n",
    "print(acc)\n",
    "\n",
    "\n",
    "examp=np.array([[7,10,10,8,7,10,9,7,1],[1,2,1,4,1,2,4,2,1]])\n",
    "examp=examp.reshape(2,-1)\n",
    "pred=clf.predict(examp)\n",
    "print(examp)\n",
    "print(pred)\n",
    "\n",
    "\n"
   ]
  },
  {
   "cell_type": "code",
   "execution_count": 5,
   "metadata": {},
   "outputs": [],
   "source": []
  },
  {
   "cell_type": "code",
   "execution_count": null,
   "metadata": {},
   "outputs": [],
   "source": []
  }
 ],
 "metadata": {
  "kernelspec": {
   "display_name": "Python 2",
   "language": "python",
   "name": "python2"
  },
  "language_info": {
   "codemirror_mode": {
    "name": "ipython",
    "version": 2
   },
   "file_extension": ".py",
   "mimetype": "text/x-python",
   "name": "python",
   "nbconvert_exporter": "python",
   "pygments_lexer": "ipython2",
   "version": "2.7.6"
  }
 },
 "nbformat": 4,
 "nbformat_minor": 0
}
