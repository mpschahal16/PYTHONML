{
 "cells": [
  {
   "cell_type": "code",
   "execution_count": 2,
   "metadata": {
    "collapsed": true
   },
   "outputs": [
    {
     "name": "stdout",
     "output_type": "stream",
     "text": [
      "0.95\n[[4 2 1 1 1 2 3 2 1]\n [1 2 1 3 1 2 4 2 1]]\n[2 2]\n"
     ]
    }
   ],
   "source": [
    "import numpy as np\n",
    "from sklearn import  preprocessing, cross_validation,neighbors\n",
    "\n",
    "import pandas as pd\n",
    "\n",
    "df=pd.read_csv('/home/manpreet/mps/breast-cancer-wisconsin.data.csv')\n",
    "#print(df)\n",
    "df.replace('?',-99999,inplace=True)\n",
    "\n",
    "df.drop(['id'],1,inplace=True)\n",
    "#print(df)\n",
    "\n",
    "x=np.array(df.drop(['class'],1))\n",
    "y=np.array(df['class'])\n",
    "\n",
    "x_train,x_test,y_train,y_test=cross_validation.train_test_split(x,y,test_size=0.2)\n",
    "clf=neighbors.KNeighborsClassifier()\n",
    "\n",
    "clf.fit(x_train,y_train)\n",
    "accuracy=clf.score(x_test,y_test)\n",
    "print(accuracy)\n",
    "\n",
    "\n",
    "examp=np.array([[4,2,1,1,1,2,3,2,1],[1,2,1,3,1,2,4,2,1]])\n",
    "examp=examp.reshape(2,-1)\n",
    "pred=clf.predict(examp)\n",
    "print(examp)\n",
    "print(pred)\n",
    "\n",
    "\n"
   ]
  },
  {
   "cell_type": "code",
   "execution_count": 2,
   "metadata": {},
   "outputs": [],
   "source": []
  },
  {
   "cell_type": "code",
   "execution_count": 13,
   "metadata": {},
   "outputs": [],
   "source": []
  },
  {
   "cell_type": "code",
   "execution_count": null,
   "metadata": {},
   "outputs": [],
   "source": []
  }
 ],
 "metadata": {
  "kernelspec": {
   "display_name": "Python 2",
   "language": "python",
   "name": "python2"
  },
  "language_info": {
   "codemirror_mode": {
    "name": "ipython",
    "version": 2
   },
   "file_extension": ".py",
   "mimetype": "text/x-python",
   "name": "python",
   "nbconvert_exporter": "python",
   "pygments_lexer": "ipython2",
   "version": "2.7.6"
  }
 },
 "nbformat": 4,
 "nbformat_minor": 0
}
