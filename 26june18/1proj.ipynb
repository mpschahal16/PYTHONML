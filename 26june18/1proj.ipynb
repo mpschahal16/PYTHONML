{
 "cells": [
  {
   "cell_type": "code",
   "execution_count": 19,
   "metadata": {},
   "outputs": [
    {
     "name": "stdout",
     "output_type": "stream",
     "text": [
      "/home/manpreet/mps/cc/aclImdb_v1/aclImdb/test/pos\n"
     ]
    },
    {
     "name": "stdout",
     "output_type": "stream",
     "text": [
      "/home/manpreet/mps/cc/aclImdb_v1/aclImdb/test/neg\n"
     ]
    },
    {
     "name": "stdout",
     "output_type": "stream",
     "text": [
      "/home/manpreet/mps/cc/aclImdb_v1/aclImdb/train/pos\n"
     ]
    },
    {
     "name": "stdout",
     "output_type": "stream",
     "text": [
      "/home/manpreet/mps/cc/aclImdb_v1/aclImdb/train/neg\n"
     ]
    },
    {
     "name": "stdout",
     "output_type": "stream",
     "text": [
      "done\n"
     ]
    }
   ],
   "source": [
    "'''\n",
    "link for dataset\n",
    "\n",
    "from http://ai.stanford.edu/~amaas/data/sentiment/\n",
    "\n",
    "'''\n",
    "\n",
    "\n",
    "import os\n",
    "import pandas as pd\n",
    "import numpy as np\n",
    "\n",
    "labels = {'pos': 'positive', 'neg': 'negative'}\n",
    "\n",
    "dataset = pd.DataFrame()\n",
    "for directory in ('test', 'train'):\n",
    "    for sentiment in ('pos', 'neg'):\n",
    "        path =r'/home/manpreet/mps/cc/aclImdb_v1/aclImdb/{}/{}'.format(directory, sentiment)\n",
    "        print(path)\n",
    "        for review_file in os.listdir(path):\n",
    "            with open(os.path.join(path, review_file), 'r') as input_file:\n",
    "                review = input_file.read()\n",
    "            dataset = dataset.append([[review, labels[sentiment]]],ignore_index=True)\n",
    "dataset.columns = ['review', 'sentiment']\n",
    "\n",
    "indices = dataset.index.tolist()\n",
    "np.random.shuffle(indices)\n",
    "indices = np.array(indices)\n",
    "\n",
    "dataset = dataset.reindex(index=indices)\n",
    "\n",
    "dataset.to_csv('/home/manpreet/mps/cc/aclImdb_v1/aclImdb/movie_reviews.csv', index=False)\n",
    "print(\"done\")\n"
   ]
  },
  {
   "cell_type": "code",
   "execution_count": null,
   "metadata": {},
   "outputs": [],
   "source": []
  }
 ],
 "metadata": {
  "kernelspec": {
   "display_name": "Python 2",
   "language": "python",
   "name": "python2"
  },
  "language_info": {
   "codemirror_mode": {
    "name": "ipython",
    "version": 2
   },
   "file_extension": ".py",
   "mimetype": "text/x-python",
   "name": "python",
   "nbconvert_exporter": "python",
   "pygments_lexer": "ipython2",
   "version": "2.7.6"
  }
 },
 "nbformat": 4,
 "nbformat_minor": 0
}
