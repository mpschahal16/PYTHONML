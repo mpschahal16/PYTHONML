{
 "cells": [
  {
   "cell_type": "code",
   "execution_count": 1,
   "metadata": {
    "collapsed": false
   },
   "outputs": [
    {
     "name": "stdout",
     "output_type": "stream",
     "text": [
      "xx\n"
     ]
    }
   ],
   "source": [
    "import cv2    #importing opencv\n",
    "from datetime import datetime  #importing datetime for current date and time of system\n",
    "\n",
    "\n",
    "camera = cv2.VideoCapture(0)    #camera capture initialisation\n",
    "       \n",
    "\n",
    "while(camera.isOpened()):      \n",
    "    ret, frame = camera.read()        #capturing frame unless while loop break\n",
    "    \n",
    "    gray = cv2.cvtColor(frame, cv2.IMREAD_COLOR) #this is used to change color format of image read more on internet\n",
    "    cv2.imshow('frame',gray)         ##this is used to diplay the frame on screen\n",
    "    if cv2.waitKey(30)== ord('q'):      ###this will get the pressd key of keboard and compare it with q\n",
    "        break          #terminate\n",
    "        \n",
    "    if cv2.waitKey(30)==ord('s'):           ###this will get the pressd key of keboard and compare it with S to \n",
    "        # start video recording\n",
    "        \n",
    "        \n",
    "        \n",
    "        fourcc = cv2.VideoWriter_fourcc(*'XVID')\n",
    "        '''\n",
    "        FourCC is a 4-byte code used to specify the video codec. The list of available codes can be found in fourcc.org. It is platform dependent. Following codecs works fine for me.\n",
    "        *In Fedora(Linux): DIVX, XVID, MJPG, X264, WMV1, WMV2. (XVID is more preferable. MJPG results in high size video. X264 gives very small size video)\n",
    "        *In Windows: DIVX (More to be tested and added)\n",
    "        '''\n",
    "        \n",
    "        \n",
    "        out = cv2.VideoWriter('/home/manpreet/mps/output'+str(datetime.now())+'.avi',fourcc, 20.0, (640,480))\n",
    "        '''\n",
    "        *creating an o/p stream means connection to storage\n",
    "        *Arrgument passed\n",
    "            1. location\n",
    "            2. codec(format)\n",
    "            3.  frame per sec in float\n",
    "            4, frame size\n",
    "        '''\n",
    "        \n",
    "        \n",
    "        while(True):    ##while loop to record video\n",
    "            ret, frame = camera.read()\n",
    "            gray = cv2.cvtColor(frame, cv2.IMREAD_COLOR) \n",
    "            cv2.imshow('frame',gray)\n",
    "            out.write(frame)     ####appending frame to the o/p\n",
    "            if cv2.waitKey(30)== ord('t'):   ##checking keypress t for terminating video recording\n",
    "                out.release()                  #releasing o/p stream necesaary if o/p stream not released \n",
    "                # file will not be written on storage\n",
    "                break  ####   $$$$$$$$$$$ \n",
    "                \n",
    "                \n",
    "                # new thing learn\n",
    "                \n",
    "                \n",
    "                #break will terminate all nested loops\n",
    "        break                #terminate\n",
    "        \n",
    "print('xx')   ####this print is used to check the working of break statement\n",
    "\n",
    "\n",
    "camera.release()            #releasing camera \n",
    "cv2.destroyAllWindows()   #releasing cv2\n",
    "\n",
    "\n",
    "\n"
   ]
  },
  {
   "cell_type": "code",
   "execution_count": 5,
   "metadata": {},
   "outputs": [],
   "source": []
  },
  {
   "cell_type": "code",
   "execution_count": null,
   "metadata": {},
   "outputs": [],
   "source": []
  }
 ],
 "metadata": {
  "kernelspec": {
   "display_name": "Python 2",
   "language": "python",
   "name": "python2"
  },
  "language_info": {
   "codemirror_mode": {
    "name": "ipython",
    "version": 2
   },
   "file_extension": ".py",
   "mimetype": "text/x-python",
   "name": "python",
   "nbconvert_exporter": "python",
   "pygments_lexer": "ipython2",
   "version": "2.7.6"
  }
 },
 "nbformat": 4,
 "nbformat_minor": 0
}
