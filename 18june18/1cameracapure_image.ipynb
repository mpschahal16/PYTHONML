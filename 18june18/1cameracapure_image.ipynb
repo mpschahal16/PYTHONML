{
 "cells": [
  {
   "cell_type": "code",
   "execution_count": 2,
   "metadata": {},
   "outputs": [
    {
     "name": "stdout",
     "output_type": "stream",
     "text": [
      "True\nTrue\nTrue\n"
     ]
    },
    {
     "name": "stdout",
     "output_type": "stream",
     "text": [
      "True\nTrue\nTrue\n"
     ]
    },
    {
     "name": "stdout",
     "output_type": "stream",
     "text": [
      "True\nTrue\nTrue\n"
     ]
    },
    {
     "name": "stdout",
     "output_type": "stream",
     "text": [
      "True\nTrue\nTrue\n"
     ]
    },
    {
     "name": "stdout",
     "output_type": "stream",
     "text": [
      "True\nTrue\nTrue\n"
     ]
    },
    {
     "name": "stdout",
     "output_type": "stream",
     "text": [
      "True\nTrue\nTrue\nTrue\n"
     ]
    },
    {
     "name": "stdout",
     "output_type": "stream",
     "text": [
      "True\nTrue\nTrue\n"
     ]
    },
    {
     "name": "stdout",
     "output_type": "stream",
     "text": [
      "True\nTrue\nTrue\n"
     ]
    },
    {
     "name": "stdout",
     "output_type": "stream",
     "text": [
      "True\nTrue\nTrue\nTrue\n"
     ]
    },
    {
     "name": "stdout",
     "output_type": "stream",
     "text": [
      "True\nTrue\nTrue\n"
     ]
    },
    {
     "name": "stdout",
     "output_type": "stream",
     "text": [
      "True\nTrue\nTrue\nTrue\n"
     ]
    },
    {
     "name": "stdout",
     "output_type": "stream",
     "text": [
      "True\nTrue\nTrue\nTrue\n"
     ]
    },
    {
     "name": "stdout",
     "output_type": "stream",
     "text": [
      "True\nTrue\nTrue\nTrue\n"
     ]
    },
    {
     "name": "stdout",
     "output_type": "stream",
     "text": [
      "True\nFile saved at location :/home/manpreet/mps/campture2018-06-29 08:33:24.858930.png\n"
     ]
    }
   ],
   "source": [
    "import cv2    #importing opencv\n",
    "from datetime import datetime  #importing datetime for current date and time of system\n",
    "\n",
    "\n",
    "camera = cv2.VideoCapture(0)    #camera capture initialisation\n",
    " \n",
    "\n",
    "def get_image(frame):     #function to captute single image   \n",
    "    # (frame is the captured frame when you click c on keyboard)\n",
    "    \n",
    " file = \"/home/manpreet/mps/campture\"+str(datetime.now())+\".png\";  #relative address where \n",
    " # you want to save the file whih the name by which you want to save it\n",
    "    \n",
    "    \n",
    "    ##datetime.now() used in above line will get the current full time with date of the system\n",
    " \n",
    " \n",
    " \n",
    "    # A nice feature of the imwrite method is that it will automatically choose the\n",
    "    # correct format based on the file extension you provide. Convenient!\n",
    " cv2.imwrite(file, frame)\n",
    " \n",
    " \n",
    " \n",
    " print(\"File saved at location :\"+file)  ##dprinting the location of the file where it is saved\n",
    " \n",
    " #### above function end\n",
    " \n",
    "\n",
    "while(True):      #infinite loop\n",
    "    ret, frame = camera.read()        #capturing frame unless while loop break\n",
    "    \n",
    "    print(ret)   ##this print is used to check the value of ret which contain true of frame is retuned else false\n",
    "    \n",
    "    gray = cv2.cvtColor(frame, cv2.IMREAD_COLOR)   #this is used to change color format of image read more on internet\n",
    "    cv2.imshow('frame',gray)    ##this is used to diplay the frame on screen\n",
    "    if cv2.waitKey(30)== ord('q'):      ###this will get the pressd key of keboard and compare it with q\n",
    "        break          #terminate\n",
    "        \n",
    "    if cv2.waitKey(30)==ord('c'):           ###this will get the pressd key of keboard and compare it with c\n",
    "        get_image(frame)       #calling function to save the frame at that instance\n",
    "        break                #terminate\n",
    "        \n",
    "camera.release()            #releasing camera \n",
    "cv2.destroyAllWindows()   #releasing cv2\n",
    "\n",
    "\n"
   ]
  },
  {
   "cell_type": "code",
   "execution_count": 2,
   "metadata": {},
   "outputs": [],
   "source": []
  },
  {
   "cell_type": "code",
   "execution_count": 2,
   "metadata": {},
   "outputs": [],
   "source": []
  },
  {
   "cell_type": "code",
   "execution_count": null,
   "metadata": {},
   "outputs": [],
   "source": []
  }
 ],
 "metadata": {
  "kernelspec": {
   "display_name": "Python 2",
   "language": "python",
   "name": "python2"
  },
  "language_info": {
   "codemirror_mode": {
    "name": "ipython",
    "version": 2
   },
   "file_extension": ".py",
   "mimetype": "text/x-python",
   "name": "python",
   "nbconvert_exporter": "python",
   "pygments_lexer": "ipython2",
   "version": "2.7.6"
  }
 },
 "nbformat": 4,
 "nbformat_minor": 0
}
